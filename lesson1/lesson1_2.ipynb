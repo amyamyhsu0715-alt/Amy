{
 "cells": [
  {
   "cell_type": "code",
   "execution_count": null,
   "id": "77697a4c",
   "metadata": {
    "vscode": {
     "languageId": "plaintext"
    }
   },
   "outputs": [],
   "source": [
    "#無沒意義的寫法\n",
    "5 + 5\n",
    "8 * 9\n",
    "9 // 2"
   ]
  },
  {
   "cell_type": "code",
   "execution_count": null,
   "id": "ea0f0ee8",
   "metadata": {
    "vscode": {
     "languageId": "plaintext"
    }
   },
   "outputs": [],
   "source": [
    "\n",
    "value1 = 5 + 5\n",
    "value2 = value1 * 2\n",
    "value3 = value1 * value2\n",
    "print(value3)\n",
    "     "
   ]
  },
  {
   "cell_type": "code",
   "execution_count": null,
   "id": "b90ffdb4",
   "metadata": {
    "vscode": {
     "languageId": "plaintext"
    }
   },
   "outputs": [],
   "source": [
    "\n",
    "#計算矩形面積\n",
    "width = 10\n",
    "height = 5.0\n",
    "area = width * height\n",
    "print(area)"
   ]
  }
 ],
 "metadata": {
  "language_info": {
   "name": "python"
  }
 },
 "nbformat": 4,
 "nbformat_minor": 5
}
