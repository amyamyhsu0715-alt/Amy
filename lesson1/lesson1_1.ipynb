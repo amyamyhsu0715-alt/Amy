{
 "cells": [
  {
   "cell_type": "code",
   "execution_count": null,
   "id": "7f82ee3a",
   "metadata": {
    "vscode": {
     "languageId": "plaintext"
    }
   },
   "outputs": [],
   "source": [
    "Open In Colab\n",
    "python第1節上課\n",
    "\n",
    "print()使用"
   ]
  },
  {
   "cell_type": "code",
   "execution_count": null,
   "id": "38ee0c28",
   "metadata": {
    "vscode": {
     "languageId": "plaintext"
    }
   },
   "outputs": [],
   "source": [
    "print(\"Hello! Python!\")\n",
    "print(\"這是ai的課程\")\n",
    "print(\"這是第1節上課!\")"
   ]
  },
  {
   "cell_type": "code",
   "execution_count": null,
   "id": "3b38f4b7",
   "metadata": {
    "vscode": {
     "languageId": "plaintext"
    }
   },
   "outputs": [],
   "source": [
    "#整數(int)\n",
    "5"
   ]
  },
  {
   "cell_type": "code",
   "execution_count": null,
   "id": "3448b991",
   "metadata": {
    "vscode": {
     "languageId": "plaintext"
    }
   },
   "outputs": [],
   "source": [
    "\n",
    "#浮點數(float)\n",
    "5.0"
   ]
  },
  {
   "cell_type": "code",
   "execution_count": null,
   "id": "aec32fe6",
   "metadata": {
    "vscode": {
     "languageId": "plaintext"
    }
   },
   "outputs": [],
   "source": [
    "\n",
    "#字串(str)\n",
    "\"5\"\n",
    "     "
   ]
  },
  {
   "cell_type": "code",
   "execution_count": null,
   "id": "4863316c",
   "metadata": {
    "vscode": {
     "languageId": "plaintext"
    }
   },
   "outputs": [],
   "source": [
    "\n",
    "#字串(str)\n",
    "'5.0'"
   ]
  },
  {
   "cell_type": "code",
   "execution_count": null,
   "id": "775059c2",
   "metadata": {
    "vscode": {
     "languageId": "plaintext"
    }
   },
   "outputs": [],
   "source": [
    "print(5 + 8)\n",
    "print(90 - 10)\n",
    "print(4 * 7)\n",
    "print(6 / 2)\n",
    "print(7 // 2)\n",
    "print(7 % 3)\n",
    "print(3 ** 4)\n",
    "     "
   ]
  },
  {
   "cell_type": "code",
   "execution_count": null,
   "id": "920c3924",
   "metadata": {
    "vscode": {
     "languageId": "plaintext"
    }
   },
   "outputs": [],
   "source": [
    "#先*/後+,-\n",
    "print(6 + 4 * 2)\n",
    "print((6 + 4) * 2)"
   ]
  },
  {
   "cell_type": "code",
   "execution_count": null,
   "id": "d98613bc",
   "metadata": {
    "vscode": {
     "languageId": "plaintext"
    }
   },
   "outputs": [],
   "source": [
    "\n",
    "print(2 * (1 + 2) ** 2 - 2 ** 2 * 2)\n",
    "print(2 * (1 + 2) ** 2 - 2 ** 2 * 2.0)\n",
    "print(2 * (1 + 2.0) ** 2 - 2 ** 2 * 2.0)"
   ]
  },
  {
   "cell_type": "code",
   "execution_count": null,
   "id": "e36abd3d",
   "metadata": {
    "vscode": {
     "languageId": "plaintext"
    }
   },
   "outputs": [],
   "source": [
    "5 + \"5\""
   ]
  },
  {
   "cell_type": "code",
   "execution_count": null,
   "id": "67f1f4a9",
   "metadata": {
    "vscode": {
     "languageId": "plaintext"
    }
   },
   "outputs": [],
   "source": [
    "\n",
    "5 + float(\"5\")"
   ]
  },
  {
   "cell_type": "code",
   "execution_count": null,
   "id": "f9986e5f",
   "metadata": {
    "vscode": {
     "languageId": "plaintext"
    }
   },
   "outputs": [],
   "source": [
    "\n",
    "5 + int(\"5\")"
   ]
  }
 ],
 "metadata": {
  "language_info": {
   "name": "python"
  }
 },
 "nbformat": 4,
 "nbformat_minor": 5
}
