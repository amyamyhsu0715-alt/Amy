{
 "cells": [
  {
   "cell_type": "code",
   "execution_count": null,
   "id": "3e51a274",
   "metadata": {
    "vscode": {
     "languageId": "plaintext"
    }
   },
   "outputs": [],
   "source": [
    "age = int(input(\"請輸入age:\"))\n",
    "\n",
    "if age >= 18:\n",
    "    print(\"可以考駕照!\")\n",
    "else:\n",
    "    print(\"不可以考駕照!\")"
   ]
  },
  {
   "cell_type": "code",
   "execution_count": null,
   "id": "542dd558",
   "metadata": {
    "vscode": {
     "languageId": "plaintext"
    }
   },
   "outputs": [],
   "source": [
    "# 學生總分為300\n",
    "# 有些學生可以加分5%\n",
    "# 如果加分超過300,就以300分為準\n",
    "\n",
    "scores = int(input(\"請輸入學生分數(最高300分):\"))\n",
    "is_add = input(\"學生是否符合加分條件?(y,n)\")\n",
    "\n",
    "if(is_add == 'y'): # 單項選擇\n",
    "    scores *= 1.05\n",
    "    if scores > 300: # 利用巢狀判斷增加條件\n",
    "        scores = 300\n",
    "\n",
    "# print(int(scores)) # 移除小數點\n",
    "print(round(scores)) # 4捨5入\n",
    "#print(round(scores, ndigits=2))"
   ]
  },
  {
   "cell_type": "code",
   "execution_count": null,
   "id": "f90a10fb",
   "metadata": {
    "vscode": {
     "languageId": "plaintext"
    }
   },
   "outputs": [],
   "source": [
    "#try...except\n",
    "try:\n",
    "    money = int(input(\"請輸入金額:\"))\n",
    "    print(money)\n",
    "except:\n",
    "    print(\"出現錯誤\")"
   ]
  },
  {
   "cell_type": "code",
   "execution_count": null,
   "id": "6942de13",
   "metadata": {
    "vscode": {
     "languageId": "plaintext"
    }
   },
   "outputs": [],
   "source": [
    "# 學生總分為300\n",
    "# 有些學生可以加分5%\n",
    "# 如果加分超過300,就以300分為準\n",
    "try:\n",
    "    scores = int(input(\"請輸入學生分數(最高300分):\"))\n",
    "    is_add = input(\"學生是否符合加分條件?(y,n)\")\n",
    "\n",
    "    if(is_add == 'y'): # 單項選擇\n",
    "        scores *= 1.05\n",
    "        if scores > 300: # 利用巢狀判斷增加條件\n",
    "            scores = 300\n",
    "\n",
    "    print(round(scores)) # 4捨5入\n",
    "except ValueError:\n",
    "    print(\"輸入學生的分數,無法辨識\")\n",
    "except:\n",
    "    print(\"出現錯誤,請重新執行\")\n",
    "\n",
    "print(\"應用程式結束\")"
   ]
  },
  {
   "cell_type": "code",
   "execution_count": null,
   "id": "52501998",
   "metadata": {
    "vscode": {
     "languageId": "plaintext"
    }
   },
   "outputs": [],
   "source": [
    "# 學生總分為300\n",
    "# 有些學生可以加分5%\n",
    "# 如果加分超過300,就以300分為準\n",
    "try:\n",
    "    scores = int(input(\"請輸入學生分數(最高300分):\"))\n",
    "    if scores > 300:\n",
    "        print(\"分數不可以超過300\")\n",
    "    else:\n",
    "        is_add = input(\"學生是否符合加分條件?(y,n)\")\n",
    "\n",
    "        if(is_add == 'y'): # 單項選擇\n",
    "            scores *= 1.05\n",
    "            if scores > 300: # 利用巢狀判斷增加條件\n",
    "                scores = 300\n",
    "\n",
    "        print(round(scores)) # 4捨5入\n",
    "except ValueError:\n",
    "    print(\"輸入學生的分數,無法辨識\")\n",
    "except:\n",
    "    print(\"出現錯誤,請重新執行\")\n",
    "\n",
    "print(\"應用程式結束\")"
   ]
  },
  {
   "cell_type": "code",
   "execution_count": null,
   "id": "25d18b7c",
   "metadata": {
    "vscode": {
     "languageId": "plaintext"
    }
   },
   "outputs": [],
   "source": [
    "# 學生總分為300\n",
    "# 有些學生可以加分5%\n",
    "# 如果加分超過300,就以300分為準\n",
    "try:\n",
    "    scores = int(input(\"請輸入學生分數(最高300分):\"))\n",
    "    if scores > 300:\n",
    "        raise Exception(\"分數不可以超過300\") # 手動raise錯誤\n",
    "    \n",
    "    is_add = input(\"學生是否符合加分條件?(y,n)\")\n",
    "\n",
    "    if(is_add == 'y'): # 單項選擇\n",
    "        scores *= 1.05\n",
    "        if scores > 300: # 利用巢狀判斷增加條件\n",
    "            scores = 300\n",
    "\n",
    "    print(round(scores)) # 4捨5入\n",
    "except ValueError:\n",
    "    print(\"輸入學生的分數,無法辨識\")\n",
    "except Exception as error:\n",
    "    print(error)\n",
    "\n",
    "print(\"應用程式結束\")"
   ]
  }
 ],
 "metadata": {
  "language_info": {
   "name": "python"
  }
 },
 "nbformat": 4,
 "nbformat_minor": 5
}
