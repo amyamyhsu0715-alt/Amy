{
 "cells": [
  {
   "cell_type": "code",
   "execution_count": null,
   "id": "db7cbeab",
   "metadata": {
    "vscode": {
     "languageId": "plaintext"
    }
   },
   "outputs": [],
   "source": [
    "# 國文分數和數學分數\n",
    "# 如果同時100分,獎金1000\n",
    "# 如果1科100分,獎金500\n",
    "# 其它的0元\n",
    "\n",
    "chinese = int(input(\"請輸入國文分數:\"))\n",
    "math = int(input(\"請輸入數學分數:\"))\n",
    "\n",
    "# 巢狀判斷\n",
    "bonus = 0\n",
    "if chinese == 100:\n",
    "    if math == 100:\n",
    "        bonus = 1000\n",
    "    else:\n",
    "        bonus = 500\n",
    "else:\n",
    "    if math == 100:\n",
    "        bonus = 500\n",
    "\n",
    "print(f\"獎金:{bonus}\")"
   ]
  },
  {
   "cell_type": "code",
   "execution_count": null,
   "id": "df31db13",
   "metadata": {
    "vscode": {
     "languageId": "plaintext"
    }
   },
   "outputs": [],
   "source": [
    "# 國文分數和數學分數\n",
    "# 如果同時100分,獎金1000\n",
    "# 如果1科100分,獎金500\n",
    "# 其它的0元\n",
    "\n",
    "chinese = int(input(\"請輸入國文分數:\"))\n",
    "math = int(input(\"請輸入數學分數:\"))\n",
    "\n",
    "# 邏輯運算子\n",
    "bonus = 0\n",
    "if chinese == 100 and math == 100:\n",
    "    bonus = 1000\n",
    "elif chinese == 100 or math == 100:\n",
    "    bonus = 500\n",
    "    \n",
    "\n",
    "print(f\"獎金:{bonus}\")"
   ]
  }
 ],
 "metadata": {
  "language_info": {
   "name": "python"
  }
 },
 "nbformat": 4,
 "nbformat_minor": 5
}
