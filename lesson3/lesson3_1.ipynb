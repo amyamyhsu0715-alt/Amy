{
 "cells": [
  {
   "cell_type": "code",
   "execution_count": null,
   "id": "bd0ca649",
   "metadata": {
    "vscode": {
     "languageId": "plaintext"
    }
   },
   "outputs": [],
   "source": [
    "print('Hello! World!')"
   ]
  },
  {
   "cell_type": "code",
   "execution_count": null,
   "id": "89ec772c",
   "metadata": {
    "vscode": {
     "languageId": "plaintext"
    }
   },
   "outputs": [],
   "source": [
    "# 讓使用者輸入直角三角形的對邊\n",
    "# 讓使用者輸入直角三角形的鄰邊\n",
    "# 計算斜邊\n",
    "\n",
    "import math\n",
    "\n",
    "side = int(input(\"請輸入對邊:\"))\n",
    "another_side = int(input(\"請輸入鄰邊:\"))\n",
    "result = math.sqrt(side ** 2 + another_side ** 2)\n",
    "\n",
    "print(\"斜邊是:\",result)"
   ]
  },
  {
   "cell_type": "code",
   "execution_count": null,
   "id": "c0d4f8ee",
   "metadata": {
    "vscode": {
     "languageId": "plaintext"
    }
   },
   "outputs": [],
   "source": [
    "# 複合指定運算子\n",
    "\n",
    "n = 5\n",
    "n = n + 5\n",
    "\n",
    "print(n)"
   ]
  },
  {
   "cell_type": "code",
   "execution_count": null,
   "id": "13686a0b",
   "metadata": {
    "vscode": {
     "languageId": "plaintext"
    }
   },
   "outputs": [],
   "source": [
    "# 複合指定運算子\n",
    "\n",
    "n = 5\n",
    "n += 5\n",
    "n *= 10\n",
    "\n",
    "print(n)"
   ]
  }
 ],
 "metadata": {
  "language_info": {
   "name": "python"
  }
 },
 "nbformat": 4,
 "nbformat_minor": 5
}
