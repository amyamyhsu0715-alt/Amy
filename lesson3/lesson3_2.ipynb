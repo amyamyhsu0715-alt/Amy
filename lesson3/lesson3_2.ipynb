{
 "cells": [
  {
   "cell_type": "markdown",
   "id": "184f7d15",
   "metadata": {},
   "source": [
    "這是次標題\n",
    "這是次次標題\n",
    "這是項目符號\n",
    "\n",
    "這是項目符號\n",
    "\n",
    "這是項目編號\n",
    "\n",
    "這是項目編號\n",
    "\n",
    "print(\"Hello! World!\")"
   ]
  },
  {
   "cell_type": "code",
   "execution_count": null,
   "id": "ca9fa395",
   "metadata": {
    "vscode": {
     "languageId": "plaintext"
    }
   },
   "outputs": [],
   "source": [
    "# 字串可以使用的數學運算子(+,*)\n",
    "\n",
    "print(\"我的姓名:\" + \"robert\")\n",
    "print(\"=\" * 50)"
   ]
  },
  {
   "cell_type": "code",
   "execution_count": null,
   "id": "79187e29",
   "metadata": {
    "vscode": {
     "languageId": "plaintext"
    }
   },
   "outputs": [],
   "source": [
    "# 字串的特殊符號\n",
    "# \\n -> 換行\n",
    "# \\t -> tab\n",
    "\n",
    "print(\"我的個人資料:\\n姓名:\\t徐國堂\\n姓別:\\t男\")"
   ]
  },
  {
   "cell_type": "code",
   "execution_count": null,
   "id": "41b1e717",
   "metadata": {
    "vscode": {
     "languageId": "plaintext"
    }
   },
   "outputs": [],
   "source": [
    "# 多行文字\n",
    "info = '''我的個人資料:\n",
    "姓名:   徐國堂\n",
    "性別:   男'''\n",
    "\n",
    "print(info)"
   ]
  },
  {
   "cell_type": "code",
   "execution_count": null,
   "id": "821afeac",
   "metadata": {
    "vscode": {
     "languageId": "plaintext"
    }
   },
   "outputs": [],
   "source": [
    "# 字串和數值變數的整合\n",
    "# 利用+運算子\n",
    "fruits = 10\n",
    "apple = 7\n",
    "banana = 3\n",
    "\n",
    "result = \"我有水果\" + str(fruits) + \"個,蘋果:\" + str(apple) + \"顆,香蕉:\" + str(banana) + \"根.\" \n",
    "print(result)"
   ]
  },
  {
   "cell_type": "code",
   "execution_count": null,
   "id": "a7f5df00",
   "metadata": {
    "vscode": {
     "languageId": "plaintext"
    }
   },
   "outputs": [],
   "source": [
    "# 字串和數值變數的整合\n",
    "# 利用複合指定運算子\n",
    "fruits = 10\n",
    "apple = 7\n",
    "banana = 3\n",
    "\n",
    "result = \"\"\n",
    "\n",
    "result += \"我有水果\" \n",
    "result += str(fruits) \n",
    "result += \"個,蘋果:\"\n",
    "result += str(apple) \n",
    "result += \"顆,香蕉:\" \n",
    "result += str(banana) \n",
    "result += \"根.\"\n",
    "\n",
    "print(result)"
   ]
  },
  {
   "cell_type": "code",
   "execution_count": null,
   "id": "348acb42",
   "metadata": {
    "vscode": {
     "languageId": "plaintext"
    }
   },
   "outputs": [],
   "source": [
    "# 字串和數值變數的整合\n",
    "# 格式化字串(字串插補)\n",
    "fruits = 10\n",
    "apple = 7\n",
    "banana = 3\n",
    "\n",
    "result = f\"我有水果{fruits}個,蘋果:{apple}顆,香蕉:{banana}根\"\n",
    "\n",
    "print(result)"
   ]
  }
 ],
 "metadata": {
  "language_info": {
   "name": "python"
  }
 },
 "nbformat": 4,
 "nbformat_minor": 5
}
