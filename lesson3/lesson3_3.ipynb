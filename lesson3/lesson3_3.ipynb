{
 "cells": [
  {
   "cell_type": "code",
   "execution_count": null,
   "id": "e4fba308",
   "metadata": {
    "vscode": {
     "languageId": "plaintext"
    }
   },
   "outputs": [],
   "source": [
    "# 全部都在root區,所以每個敘述都會執行\n",
    "fruits = 10\n",
    "apple = 7\n",
    "banana = 3\n",
    "\n",
    "result = f\"我有水果{fruits}個,蘋果:{apple}顆,香蕉:{banana}根\"\n",
    "\n",
    "print(result)"
   ]
  },
  {
   "cell_type": "code",
   "execution_count": null,
   "id": "4f95ee63",
   "metadata": {
    "vscode": {
     "languageId": "plaintext"
    }
   },
   "outputs": [],
   "source": [
    "#流程控制的判斷\n",
    "#判斷讓執行的程式敘述不一樣(就是有智慧)\n",
    "\n",
    "age = int(input(\"請輸入age:\"))\n",
    "\n",
    "if age >= 18:\n",
    "    print(\"我滿18\")\n",
    "    print(\"我可以考駕照\")\n",
    "else:\n",
    "    print(\"未到法定age\")\n",
    "    print(\"不可以考駕照\")"
   ]
  }
 ],
 "metadata": {
  "language_info": {
   "name": "python"
  }
 },
 "nbformat": 4,
 "nbformat_minor": 5
}
